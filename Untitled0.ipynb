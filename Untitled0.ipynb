{
  "nbformat": 4,
  "nbformat_minor": 0,
  "metadata": {
    "colab": {
      "name": "Untitled0.ipynb",
      "provenance": [],
      "collapsed_sections": []
    },
    "kernelspec": {
      "name": "python3",
      "display_name": "Python 3"
    }
  },
  "cells": [
    {
      "cell_type": "markdown",
      "metadata": {
        "id": "34VXKvboYKJD",
        "colab_type": "text"
      },
      "source": [
        "#1.1 TASK 1\n",
        "\n",
        "Write a Python Program to implement your own myreduce() function which works exactly like Python's built-in function reduce()"
      ]
    },
    {
      "cell_type": "code",
      "metadata": {
        "id": "DKkzXx8jXmru",
        "colab_type": "code",
        "outputId": "1f2bce6f-0d94-4bda-ce69-89d23054d13e",
        "colab": {
          "base_uri": "https://localhost:8080/",
          "height": 35
        }
      },
      "source": [
        "from functools import reduce \n",
        "#Multiply all numbers in a list \n",
        "\n",
        "data = [2,3,4,5,6,7,8,9,10,11,12,14,15]\n",
        "\n",
        "mult = lambda x,y: x*y\n",
        "\n",
        "reduce(mult, data)\n"
      ],
      "execution_count": 0,
      "outputs": [
        {
          "output_type": "execute_result",
          "data": {
            "text/plain": [
              "100590336000"
            ]
          },
          "metadata": {
            "tags": []
          },
          "execution_count": 1
        }
      ]
    },
    {
      "cell_type": "code",
      "metadata": {
        "id": "tlYZZOoMYA9x",
        "colab_type": "code",
        "outputId": "a44e7356-3217-4deb-ef00-b69260bb60dc",
        "colab": {
          "base_uri": "https://localhost:8080/",
          "height": 35
        }
      },
      "source": [
        "\n",
        "from functools import reduce \n",
        "#Multiply all numbers in a list \n",
        "\n",
        "data = [2,3,4,5,6,7,8,9,10,11,12,14,15]\n",
        "\n",
        "reduce(lambda x,y: x*y,data)\n"
      ],
      "execution_count": 0,
      "outputs": [
        {
          "output_type": "execute_result",
          "data": {
            "text/plain": [
              "100590336000"
            ]
          },
          "metadata": {
            "tags": []
          },
          "execution_count": 2
        }
      ]
    },
    {
      "cell_type": "markdown",
      "metadata": {
        "id": "gYT7FQkSYbkI",
        "colab_type": "text"
      },
      "source": [
        "1.2 Write a Python program to implement your own myfilter() function which works exactly like Python's built-in function filter()\n",
        "\n"
      ]
    },
    {
      "cell_type": "code",
      "metadata": {
        "id": "3vvXHGTxYi_a",
        "colab_type": "code",
        "outputId": "d3e7dffe-c574-4c7b-9eb5-d8b361f06871",
        "colab": {
          "base_uri": "https://localhost:8080/",
          "height": 35
        }
      },
      "source": [
        "def myfilter(num):\n",
        "    if num%2 != 0:\n",
        "        return True\n",
        "\n",
        "numbers = [11,12,13,14,15,16,17,18,19,20,21,22,23,35,32,]\n",
        "list (filter(myfilter, numbers))"
      ],
      "execution_count": 0,
      "outputs": [
        {
          "output_type": "execute_result",
          "data": {
            "text/plain": [
              "[11, 13, 15, 17, 19, 21, 23, 35]"
            ]
          },
          "metadata": {
            "tags": []
          },
          "execution_count": 3
        }
      ]
    },
    {
      "cell_type": "markdown",
      "metadata": {
        "id": "hMWwTucKZAOx",
        "colab_type": "text"
      },
      "source": [
        "2.\n",
        "Implement List comprehensions to produce the following lists.\n",
        "Write List comprehensions to produce the following Lists\n",
        "['A', 'C', 'A', 'D', 'G', 'I', ’L’, ‘ D’]\n",
        "['x', 'xx', 'xxx', 'xxxx', 'y', 'yy', 'yyy', 'yyyy', 'z', 'zz', 'zzz', 'zzzz']\n",
        "['x', 'y', 'z', 'xx', 'yy', 'zz', 'xx', 'yy', 'zz', 'xxxx', 'yyyy', 'zzzz']\n",
        "[[2], [3], [4], [3], [4], [5], [4], [5], [6]] \n",
        " \n",
        "[[2, 3, 4, 5], [3, 4, 5, 6], [4, 5, 6, 7], [5, 6, 7, 8]] \n",
        " \n",
        "[(1, 1), (2, 1), (3, 1), (1, 2), (2, 2), (3, 2), (1, 3), (2, 3), (3, 3)] "
      ]
    },
    {
      "cell_type": "code",
      "metadata": {
        "id": "Vy1ieHoTZFXu",
        "colab_type": "code",
        "outputId": "31cd7248-7066-489f-fadf-23af0052351e",
        "colab": {
          "base_uri": "https://localhost:8080/",
          "height": 55
        }
      },
      "source": [
        "a = ['A', 'C', 'A', 'D', 'G', 'I', \"’L’\", \"‘ D’\"]\n",
        "b = ['x', 'xx', 'xxx', 'xxxx', 'y', 'yy', 'yyy', 'yyyy', 'z', 'zz', 'zzz', 'zzzz']\n",
        "c = ['x', 'y', 'z', 'xx', 'yy', 'zz', 'xx', 'yy', 'zz', 'xxxx', 'yyyy', 'zzzz']\n",
        "d = [[2], [3], [4], [3], [4], [5], [4], [5], [6]]\n",
        "e = [[2, 3, 4, 5], [3, 4, 5, 6], [4, 5, 6, 7], [5, 6, 7, 8]]\n",
        "f = [(1, 1), (2, 1), (3, 1), (1, 2), (2, 2), (3, 2), (1, 3), (2, 3), (3, 3)]\n",
        "\n",
        "collections = [a,b,c,d,e,f]\n",
        "me = [i for i in collections]\n",
        "print(me)"
      ],
      "execution_count": 0,
      "outputs": [
        {
          "output_type": "stream",
          "text": [
            "[['A', 'C', 'A', 'D', 'G', 'I', '’L’', '‘ D’'], ['x', 'xx', 'xxx', 'xxxx', 'y', 'yy', 'yyy', 'yyyy', 'z', 'zz', 'zzz', 'zzzz'], ['x', 'y', 'z', 'xx', 'yy', 'zz', 'xx', 'yy', 'zz', 'xxxx', 'yyyy', 'zzzz'], [[2], [3], [4], [3], [4], [5], [4], [5], [6]], [[2, 3, 4, 5], [3, 4, 5, 6], [4, 5, 6, 7], [5, 6, 7, 8]], [(1, 1), (2, 1), (3, 1), (1, 2), (2, 2), (3, 2), (1, 3), (2, 3), (3, 3)]]\n"
          ],
          "name": "stdout"
        }
      ]
    },
    {
      "cell_type": "markdown",
      "metadata": {
        "id": "vOuvAVw1ZcBU",
        "colab_type": "text"
      },
      "source": [
        "3)Implement a function longestWord() that takes a list of words and returns the longest one."
      ]
    },
    {
      "cell_type": "code",
      "metadata": {
        "id": "yWep2y9zZdaE",
        "colab_type": "code",
        "outputId": "4d52bb3d-3bee-4f10-bc87-aa93b2f55295",
        "colab": {
          "base_uri": "https://localhost:8080/",
          "height": 35
        }
      },
      "source": [
        "def longlen(*strings):\n",
        "      \n",
        "        return max(strings, key=len)\n",
        "\n",
        "longlen('kikkkaaaa','sule', 'scDWD', 'mmm','dhgsohwitirr')"
      ],
      "execution_count": 0,
      "outputs": [
        {
          "output_type": "execute_result",
          "data": {
            "text/plain": [
              "'dhgsohwitirr'"
            ]
          },
          "metadata": {
            "tags": []
          },
          "execution_count": 5
        }
      ]
    },
    {
      "cell_type": "markdown",
      "metadata": {
        "id": "NwYAHKLNZj3q",
        "colab_type": "text"
      },
      "source": [
        "\n",
        "TASK 2\n",
        "1.1\n",
        "\n",
        "Write a Python Program(with class concepts) to find the area of the triangle using the below formula.\n",
        "\n",
        "area = (s(s-a)(s-b)(s-c)) * 0.5\n",
        "\n",
        "Function to take the length of the sides of triangle from user should be defined in the parent class and function to calculate the area should be defined in subclass."
      ]
    },
    {
      "cell_type": "code",
      "metadata": {
        "id": "2jcTuYLzaW3L",
        "colab_type": "code",
        "outputId": "cd54cd42-fc9a-4356-8cda-193ccb673dfa",
        "colab": {
          "base_uri": "https://localhost:8080/",
          "height": 101
        }
      },
      "source": [
        "class triangle():\n",
        "    def __init__(self,a,b,c):\n",
        "        self.a = a\n",
        "        self.b = b\n",
        "        self.c = c\n",
        "    def area(self):\n",
        "        self.s=(self.a + self.b + self.c)/2\n",
        "        return (self.s*(self.s-self.a)*(self.s-b)*(self.s-self.c)) ** 0.5\n",
        "print(\"To find the Area of a triangle: \")\n",
        "a = int(input(\"Please enter the length of the  1st side of triangle: \"))\n",
        "b = int(input(\"Please enter the length of the 2nd side of triangle: \"))\n",
        "c = int(input(\"Please enter the length of the 3rd side of triangle: \"))\n",
        "r1 = triangle(a,b,c)\n",
        "\n",
        "print (\"Area: \",r1.area())"
      ],
      "execution_count": 2,
      "outputs": [
        {
          "output_type": "stream",
          "text": [
            "To find the Area of a triangle: \n",
            "Please enter the length of the  1st side of triangle: 32\n",
            "Please enter the length of the 2nd side of triangle: 21\n",
            "Please enter the length of the 3rd side of triangle: 32\n",
            "Area:  317.39712900402867\n"
          ],
          "name": "stdout"
        }
      ]
    },
    {
      "cell_type": "markdown",
      "metadata": {
        "id": "jgOxI0qAbFvs",
        "colab_type": "text"
      },
      "source": [
        " 1.2 \n",
        " \n",
        "Write a function filter_long_words() that takes a list of words and an integer n and returns the list of words that are longer than n. "
      ]
    },
    {
      "cell_type": "code",
      "metadata": {
        "id": "2KdCMf1ybM92",
        "colab_type": "code",
        "outputId": "23ad0f8f-2c9b-46f8-e3fa-83a388dc1784",
        "colab": {
          "base_uri": "https://localhost:8080/",
          "height": 35
        }
      },
      "source": [
        "def filterlongword(number,*string):\n",
        "    return [word for word in string if len(word) > number]\n",
        "filterlongword(3,'myna', 'asdadasdas','fhwroighretgije0ht')"
      ],
      "execution_count": 0,
      "outputs": [
        {
          "output_type": "execute_result",
          "data": {
            "text/plain": [
              "['myna', 'asdadasdas', 'fhwroighretgije0ht']"
            ]
          },
          "metadata": {
            "tags": []
          },
          "execution_count": 9
        }
      ]
    },
    {
      "cell_type": "markdown",
      "metadata": {
        "id": "DDrOtHa5ceTD",
        "colab_type": "text"
      },
      "source": [
        "2.1\n",
        "\n",
        "Write a Python program using function concept that maps list of words into a list of integers representing the lengths of the corresponding words​. Hint: ​If a list [ ab,cde,erty] is passed on to the python function output should come as [2,3,4] Here 2,3 and 4 are the lengths of the words in the list"
      ]
    },
    {
      "cell_type": "code",
      "metadata": {
        "id": "jawxSEO1cnsV",
        "colab_type": "code",
        "outputId": "9a8d67f1-4c3f-4b20-d6a9-c01a0ca42440",
        "colab": {
          "base_uri": "https://localhost:8080/",
          "height": 35
        }
      },
      "source": [
        "def my_word(r):\n",
        "    return len(r)\n",
        "words = ['python', 'java', 'scala', 'hadoop']\n",
        "\n",
        "list(map(my_word, words))"
      ],
      "execution_count": 0,
      "outputs": [
        {
          "output_type": "execute_result",
          "data": {
            "text/plain": [
              "[6, 4, 5, 6]"
            ]
          },
          "metadata": {
            "tags": []
          },
          "execution_count": 10
        }
      ]
    },
    {
      "cell_type": "markdown",
      "metadata": {
        "id": "r1El_zLtcvto",
        "colab_type": "text"
      },
      "source": [
        "2.2\n",
        " Write a Python function which takes a character (i.e. a string of length 1) and returns True if it is a vowel, False otherwise"
      ]
    },
    {
      "cell_type": "code",
      "metadata": {
        "id": "sSxsGrdncdEg",
        "colab_type": "code",
        "outputId": "122ca980-b038-4522-9dd2-d67effdf305a",
        "colab": {
          "base_uri": "https://localhost:8080/",
          "height": 35
        }
      },
      "source": [
        "def status(alpha):\n",
        "    vowels = ('a', 'e', 'i', 'o', 'u')\n",
        "    if alpha not in vowels:\n",
        "        return False\n",
        "    return True\n",
        "status('a')\n"
      ],
      "execution_count": 0,
      "outputs": [
        {
          "output_type": "execute_result",
          "data": {
            "text/plain": [
              "True"
            ]
          },
          "metadata": {
            "tags": []
          },
          "execution_count": 11
        }
      ]
    }
  ]
}